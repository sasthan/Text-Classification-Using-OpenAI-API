{
 "cells": [
  {
   "cell_type": "code",
   "execution_count": 25,
   "id": "dae741a4-2d58-451a-9efd-16929f2b9122",
   "metadata": {},
   "outputs": [],
   "source": [
    "import openai"
   ]
  },
  {
   "cell_type": "code",
   "execution_count": 26,
   "id": "d8e1c698-cefd-46ec-aa2a-2003e642d53c",
   "metadata": {},
   "outputs": [],
   "source": [
    "openai.api_key = \"Put your key here\""
   ]
  },
  {
   "cell_type": "code",
   "execution_count": 27,
   "id": "d9d00ae1-f203-45b6-ba1d-1d91bda1d133",
   "metadata": {},
   "outputs": [],
   "source": [
    "def classify_text(prompt, model=\"gpt-3.5-turbo-instruct\"):\n",
    "    response = openai.completions.create(\n",
    "        model=model,\n",
    "        prompt=prompt,\n",
    "        max_tokens=50,\n",
    "        temperature=0.3,\n",
    "        n=1,\n",
    "        stop=None\n",
    "    )\n",
    "    return response.choices[0].text.strip()\n"
   ]
  },
  {
   "cell_type": "code",
   "execution_count": 31,
   "id": "f4e5fafe-ec0d-4ce3-b016-6c2a4db0b65b",
   "metadata": {},
   "outputs": [],
   "source": [
    "texts = [\n",
    "    \"The stock market is experiencing significant growth today.\",\n",
    "    \"This is a wonderful place for a family vacation!\",\n",
    "    \"There is a major security breach in our systems.\",\n",
    "    \"I'm feeling so happy and content today.\",\n",
    "    \"John Smith lives on East street, San Jose, 95123\",\n",
    "    \"She opened her credit account in Wells Fargo last year\"\n",
    "]\n",
    "\n",
    "# Define the classification labels/categories\n",
    "categories = [\n",
    "    \"Finance\", \n",
    "    \"Travel\", \n",
    "    \"Cybersecurity\", \n",
    "    \"PII\",\n",
    "    \"Credit card\",\n",
    "    \"Sentiment: Positive\"\n",
    "]"
   ]
  },
  {
   "cell_type": "code",
   "execution_count": 32,
   "id": "4b659d5b-b121-4f49-95ba-a8eebaed6ab5",
   "metadata": {},
   "outputs": [],
   "source": [
    "def create_prompt(text, categories):\n",
    "    prompt = f\"Classify the following text into one of these categories: {', '.join(categories)}.\\n\\nText: {text}\\n\\nCategory:\"\n",
    "    return prompt\n"
   ]
  },
  {
   "cell_type": "code",
   "execution_count": 33,
   "id": "cab06319-85d3-4d03-9a63-4b8648397674",
   "metadata": {},
   "outputs": [
    {
     "name": "stdout",
     "output_type": "stream",
     "text": [
      "Text: The stock market is experiencing significant growth today.\n",
      "Predicted Category: Finance\n",
      "\n",
      "Text: This is a wonderful place for a family vacation!\n",
      "Predicted Category: Travel\n",
      "\n",
      "Text: There is a major security breach in our systems.\n",
      "Predicted Category: Cybersecurity\n",
      "\n",
      "Text: I'm feeling so happy and content today.\n",
      "Predicted Category: Sentiment\n",
      "\n",
      "Text: John Smith lives on East street, San Jose, 95123\n",
      "Predicted Category: PII\n",
      "\n",
      "Text: She opened her credit account in Wells Fargo last year\n",
      "Predicted Category: Finance\n",
      "\n"
     ]
    }
   ],
   "source": [
    "# Classify each text\n",
    "for text in texts:\n",
    "    prompt = create_prompt(text, categories)\n",
    "    category = classify_text(prompt)\n",
    "    print(f\"Text: {text}\\nPredicted Category: {category}\\n\")"
   ]
  },
  {
   "cell_type": "code",
   "execution_count": null,
   "id": "c1fa3bc2-7927-4931-a069-c5dc5b705bd5",
   "metadata": {},
   "outputs": [],
   "source": []
  },
  {
   "cell_type": "code",
   "execution_count": null,
   "id": "68b142b6-85a3-4616-b530-3b5c332fdaf0",
   "metadata": {},
   "outputs": [],
   "source": []
  }
 ],
 "metadata": {
  "kernelspec": {
   "display_name": "Python 3 (ipykernel)",
   "language": "python",
   "name": "python3"
  },
  "language_info": {
   "codemirror_mode": {
    "name": "ipython",
    "version": 3
   },
   "file_extension": ".py",
   "mimetype": "text/x-python",
   "name": "python",
   "nbconvert_exporter": "python",
   "pygments_lexer": "ipython3",
   "version": "3.9.13"
  }
 },
 "nbformat": 4,
 "nbformat_minor": 5
}
